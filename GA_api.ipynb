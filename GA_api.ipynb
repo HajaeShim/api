{
 "cells": [
  {
   "cell_type": "markdown",
   "metadata": {},
   "source": [
    "### libarary"
   ]
  },
  {
   "cell_type": "code",
   "execution_count": 1,
   "metadata": {},
   "outputs": [],
   "source": [
    "import pandas as pd\n",
    "import numpy as np\n",
    "import apiclient\n",
    "from apiclient.discovery import build\n",
    "from oauth2client.service_account import ServiceAccountCredentials"
   ]
  },
  {
   "cell_type": "markdown",
   "metadata": {},
   "source": [
    "### Global Apisettings"
   ]
  },
  {
   "cell_type": "code",
   "execution_count": 2,
   "metadata": {
    "scrolled": true
   },
   "outputs": [],
   "source": [
    "json_path = 'client_secrets.json' # fill json file's path"
   ]
  },
  {
   "cell_type": "markdown",
   "metadata": {},
   "source": [
    "### Function"
   ]
  },
  {
   "cell_type": "markdown",
   "metadata": {},
   "source": [
    "#### Google Analytics"
   ]
  },
  {
   "cell_type": "code",
   "execution_count": 4,
   "metadata": {},
   "outputs": [],
   "source": [
    "def ga(view_id, m_list, d_list, start_date, end_date, filters):\n",
    "    scope=['https://www.googleapis.com/auth/analytics.readonly']\n",
    "    credentials=ServiceAccountCredentials.from_json_keyfile_name(json_path, scope)\n",
    "    analytics = build('analyticsreporting', 'v4', credentials=credentials)\n",
    "    df = pd.DataFrame(columns = d_list)\n",
    "    metrics = [{'expression': 'ga:' + m} for m in m_list]\n",
    "    dimensions = [{'name': 'ga:' + d} for d in d_list]\n",
    "    page_size = 100000\n",
    "    sampling_level = 'LARGE'\n",
    "    \n",
    "    while True: \n",
    "        body = {\n",
    "            'reportRequests': [\n",
    "                {\n",
    "                    'viewId': view_id,\n",
    "                    'dateRanges': [{'startDate': start_date, 'endDate': end_date}],\n",
    "                    'metrics': metrics,\n",
    "                    'dimensions': dimensions,\n",
    "                    'pageSize': page_size,\n",
    "                    'filtersExpression': filters,\n",
    "                    'samplingLevel': sampling_level\n",
    "                }\n",
    "            ]\n",
    "        }\n",
    "\n",
    "        response = analytics.reports().batchGet(body=body).execute()\n",
    "\n",
    "        temp = pd.io.json.json_normalize(response['reports'][0]['data']['rows'])\n",
    "\n",
    "        for i, d in enumerate(d_list):\n",
    "            temp[d] = temp['dimensions'].apply(lambda x: x[i])\n",
    "\n",
    "        for i, m in enumerate(m_list):\n",
    "            temp[m] = temp['metrics'].apply(lambda x: x[0]['values'][i])\n",
    "\n",
    "        temp.drop(columns=['dimensions', 'metrics'], inplace=True)\n",
    "        df = df.append(temp) \n",
    "        page_token = response['reports'][0].get('nextPageToken')\n",
    "        if page_token == None: break\n",
    "    \n",
    "    return df"
   ]
  },
  {
   "cell_type": "markdown",
   "metadata": {},
   "source": [
    "#### Execution sample"
   ]
  },
  {
   "cell_type": "markdown",
   "metadata": {},
   "source": [
    "**GA**"
   ]
  },
  {
   "cell_type": "markdown",
   "metadata": {},
   "source": [
    "##### GA parameter"
   ]
  },
  {
   "cell_type": "code",
   "execution_count": 5,
   "metadata": {},
   "outputs": [],
   "source": [
    "view_id = ''# fill view_id\n",
    "m_list = ['sessions'] #check here https://developers.google.com/analytics/devguides/reporting/core/v4/rest/v4/reports/batchGet\n",
    "d_list = ['landingPagePath','date']\n",
    "start_date = '2019-08-15' # start fill date\n",
    "end_date = '2019-08-15'# end fill date\n",
    "filters = ''# fill conditions"
   ]
  },
  {
   "cell_type": "code",
   "execution_count": 6,
   "metadata": {
    "collapsed": true
   },
   "outputs": [
    {
     "name": "stderr",
     "output_type": "stream",
     "text": [
      "C:\\ProgramData\\Anaconda3\\lib\\site-packages\\pandas\\core\\frame.py:6692: FutureWarning: Sorting because non-concatenation axis is not aligned. A future version\n",
      "of pandas will change to not sort by default.\n",
      "\n",
      "To accept the future behavior, pass 'sort=False'.\n",
      "\n",
      "To retain the current behavior and silence the warning, pass 'sort=True'.\n",
      "\n",
      "  sort=sort)\n"
     ]
    }
   ],
   "source": [
    "gd_data = ga(view_id, m_list, d_list, start_date, end_date, filters)"
   ]
  },
  {
   "cell_type": "code",
   "execution_count": null,
   "metadata": {},
   "outputs": [],
   "source": []
  }
 ],
 "metadata": {
  "kernelspec": {
   "display_name": "Python 3",
   "language": "python",
   "name": "python3"
  },
  "language_info": {
   "codemirror_mode": {
    "name": "ipython",
    "version": 3
   },
   "file_extension": ".py",
   "mimetype": "text/x-python",
   "name": "python",
   "nbconvert_exporter": "python",
   "pygments_lexer": "ipython3",
   "version": "3.7.3"
  }
 },
 "nbformat": 4,
 "nbformat_minor": 2
}
