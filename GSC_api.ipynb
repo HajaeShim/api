{
 "cells": [
  {
   "cell_type": "markdown",
   "metadata": {},
   "source": [
    "### libarary"
   ]
  },
  {
   "cell_type": "code",
   "execution_count": 1,
   "metadata": {},
   "outputs": [],
   "source": [
    "import pandas as pd\n",
    "import numpy as np\n",
    "import apiclient\n",
    "from apiclient.discovery import build\n",
    "from oauth2client.service_account import ServiceAccountCredentials"
   ]
  },
  {
   "cell_type": "markdown",
   "metadata": {},
   "source": [
    "### Global Apisettings"
   ]
  },
  {
   "cell_type": "code",
   "execution_count": 2,
   "metadata": {
    "scrolled": true
   },
   "outputs": [],
   "source": [
    "json_path = 'client_secrets.json'"
   ]
  },
  {
   "cell_type": "markdown",
   "metadata": {},
   "source": [
    "### Function"
   ]
  },
  {
   "cell_type": "markdown",
   "metadata": {},
   "source": [
    "#### Google Search Console"
   ]
  },
  {
   "cell_type": "markdown",
   "metadata": {},
   "source": [
    "##### Data discrepancies\n",
    "You might see a few kinds of data discrepancies in Search Console.\n",
    "Discrepancies between chart totals and table totals.\n",
    "You can see differences between the chart totals and the table totals for several reasons:\n",
    "\n",
    "Chart totals higher:\n",
    "\n",
    "* The table can show a maximum of 1,000 rows, so some rows might be omitted.\n",
    "* When filtering by page or query, the \"matches\" and \"does not match\" totals might not add up to the unfiltered total. For example, adding the totals for \"Queries containing:mouse\" and \"Queries not containing:mouse\" might not equal the total values when no query filters are applied. This is because anonymized queries are omitted, and data is truncated due to serving limitations.\n",
    "* When viewing by query, anonymized (rare) results are omitted from the table.\n",
    "\n",
    "Table totals higher:\n",
    "\n",
    "* When the table is grouped by page or search appearance, the table totals are grouped by URL but the chart totals are still grouped by property. Therefore, if a single property appears multiple times in a single search, it count as 1 result in the chart but multiple results in the table.\n",
    "* Some search appearances are subcategories of others. For example, Job listing is a subcategory of Rich result, so the same result will be listed in both rows."
   ]
  },
  {
   "cell_type": "code",
   "execution_count": 3,
   "metadata": {},
   "outputs": [],
   "source": [
    "def gsc(url, d_list, start_date, end_date) :\n",
    "    scope=['https://www.googleapis.com/auth/webmasters.readonly']\n",
    "    credentials=ServiceAccountCredentials.from_json_keyfile_name(json_path, scope)\n",
    "    webmasters=apiclient.discovery.build('webmasters', 'v3', credentials=credentials)\n",
    "    df = pd.DataFrame(columns = d_list)\n",
    "    n = 0\n",
    "    while True:\n",
    "        row_limit = 25000\n",
    "        start_Row = n * row_limit\n",
    "        body = {\n",
    "            'startDate': start_date,\n",
    "            'endDate': end_date,\n",
    "            'dimensions': d_list,\n",
    "            'rowLimit': row_limit,\n",
    "            'startRow': start_Row\n",
    "        }\n",
    "        res = webmasters.searchanalytics().query(siteUrl=url, body=body).execute()\n",
    "        if len(res) == 1: break  \n",
    "        temp_df = pd.io.json.json_normalize(res['rows'])\n",
    "        for i,d in enumerate(d_list):\n",
    "            temp_df[d]=temp_df['keys'].apply(lambda x:x[i])\n",
    "        temp_df.drop(columns='keys',inplace=True)\n",
    "        df = df.append(temp_df)\n",
    "        n += 1\n",
    "    return df"
   ]
  },
  {
   "cell_type": "markdown",
   "metadata": {},
   "source": [
    "#### Execution sample"
   ]
  },
  {
   "cell_type": "markdown",
   "metadata": {},
   "source": [
    "**GSC**"
   ]
  },
  {
   "cell_type": "markdown",
   "metadata": {},
   "source": [
    "##### GSC parameter"
   ]
  },
  {
   "cell_type": "code",
   "execution_count": null,
   "metadata": {},
   "outputs": [],
   "source": [
    "url = '' # fill your domain name\n",
    "d_list = ['page','date']\n",
    "start_date = '2019-08-01'# start fill date\n",
    "end_date = '2019-08-01'# end fill date"
   ]
  },
  {
   "cell_type": "code",
   "execution_count": null,
   "metadata": {},
   "outputs": [],
   "source": [
    "gs_data = gsc(url, d_list, start_date, end_date)"
   ]
  },
  {
   "cell_type": "code",
   "execution_count": null,
   "metadata": {},
   "outputs": [],
   "source": [
    "gs_data.head()"
   ]
  }
 ],
 "metadata": {
  "kernelspec": {
   "display_name": "Python 3",
   "language": "python",
   "name": "python3"
  },
  "language_info": {
   "codemirror_mode": {
    "name": "ipython",
    "version": 3
   },
   "file_extension": ".py",
   "mimetype": "text/x-python",
   "name": "python",
   "nbconvert_exporter": "python",
   "pygments_lexer": "ipython3",
   "version": "3.7.3"
  }
 },
 "nbformat": 4,
 "nbformat_minor": 2
}
